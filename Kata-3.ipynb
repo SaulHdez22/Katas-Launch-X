{
 "cells": [
  {
   "cell_type": "markdown",
   "metadata": {},
   "source": [
    "# Kata Modulo 3"
   ]
  },
  {
   "cell_type": "code",
   "execution_count": 14,
   "metadata": {},
   "outputs": [
    {
     "name": "stdout",
     "output_type": "stream",
     "text": [
      "Advertenica, asteriode en la proximidad!\n"
     ]
    }
   ],
   "source": [
    "asteroide =  45\n",
    "if asteroide > 25:\n",
    "    print(\"Advertenica, asteriode en la proximidad!\")\n",
    "else:\n",
    "    print(\"Fuera de peligro\")"
   ]
  },
  {
   "cell_type": "code",
   "execution_count": 19,
   "metadata": {},
   "outputs": [
    {
     "name": "stdout",
     "output_type": "stream",
     "text": [
      "No se ve la luz del asteroide\n"
     ]
    }
   ],
   "source": [
    "asteroide = 19\n",
    "if asteroide > 20:\n",
    "   print(\"Se puede ver una luz del asteroide\")\n",
    "elif asteroide == 20:\n",
    "    print(\"No se puede ver la luz del asteroide\")\n",
    "else:\n",
    "    print(\"No se ve la luz del asteroide\")\n"
   ]
  },
  {
   "cell_type": "code",
   "execution_count": 22,
   "metadata": {},
   "outputs": [
    {
     "name": "stdout",
     "output_type": "stream",
     "text": [
      "Advertencia un gran asteriode va a impactar la Tierra y se ve en el cielo\n"
     ]
    }
   ],
   "source": [
    "velocidad_asteroide = 28\n",
    "tamaño_asteroide = 30\n",
    "if velocidad_asteroide > 25 and tamaño_asteroide > 25:\n",
    "    print(\"Advertencia un gran asteriode va a impactar la Tierra y se ve en el cielo\")\n",
    "elif velocidad_asteroide > 25 or tamaño_asteroide > 25:\n",
    "    print(\"Advertenica un asteriode va impactar la Tierra\")\n",
    "elif velocidad_asteroide >= 20 and tamaño_asteroide <25:\n",
    "    print(\"Hay una luz en el cielo\")\n",
    "elif velocidad_asteroide >=20 or tamaño_asteroide <25:\n",
    "    print(\"Hay un esteriode en la orbita, sin peligro\")\n",
    "elif velocidad_asteroide <20 and tamaño_asteroide > 25:\n",
    "    print(\"Hay un gran asteriode que podria impactar la Tierra\")\n",
    "else:\n",
    "    print(\"Fuera de peligro\")\n"
   ]
  }
 ],
 "metadata": {
  "interpreter": {
   "hash": "81ec8cff5213fffe3b2a5654ae184554c445bfa45ae7e843a1857068a52111e2"
  },
  "kernelspec": {
   "display_name": "Python 3.10.2 64-bit",
   "language": "python",
   "name": "python3"
  },
  "language_info": {
   "codemirror_mode": {
    "name": "ipython",
    "version": 3
   },
   "file_extension": ".py",
   "mimetype": "text/x-python",
   "name": "python",
   "nbconvert_exporter": "python",
   "pygments_lexer": "ipython3",
   "version": "3.10.2"
  },
  "orig_nbformat": 4
 },
 "nbformat": 4,
 "nbformat_minor": 2
}
