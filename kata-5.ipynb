{
 "cells": [
  {
   "cell_type": "markdown",
   "metadata": {},
   "source": [
    "# Kata Modulo 5"
   ]
  },
  {
   "cell_type": "code",
   "execution_count": 1,
   "metadata": {},
   "outputs": [],
   "source": [
    "Distancia_Tierra = (149597870)\n",
    "Distancia_Jupiter = (778547200)\n",
    "\n"
   ]
  },
  {
   "cell_type": "code",
   "execution_count": 16,
   "metadata": {},
   "outputs": [
    {
     "name": "stdout",
     "output_type": "stream",
     "text": [
      "390577534\n",
      "628949330\n"
     ]
    }
   ],
   "source": [
    "a = Distancia_Jupiter - Distancia_Tierra\n",
    "print (round(a * 0.621))\n",
    "b = Distancia_Jupiter - Distancia_Tierra\n",
    "print(b )\n"
   ]
  },
  {
   "cell_type": "code",
   "execution_count": 27,
   "metadata": {},
   "outputs": [],
   "source": [
    "Tierra = input (\"Distancia del Sol a la Tierra\")\n",
    "Jupiter = input(\"Distancia del Sol a Jupiter\")\n"
   ]
  },
  {
   "cell_type": "code",
   "execution_count": 28,
   "metadata": {},
   "outputs": [],
   "source": [
    "Tierra = int (Tierra)\n",
    "Jupiter = int (Jupiter)\n"
   ]
  },
  {
   "cell_type": "code",
   "execution_count": 37,
   "metadata": {},
   "outputs": [
    {
     "name": "stdout",
     "output_type": "stream",
     "text": [
      "629000000\n",
      "333910600\n"
     ]
    }
   ],
   "source": [
    "Distancia_km = Tierra - Jupiter\n",
    "print(abs(Distancia_km))\n",
    "Distancia_millas = Tierra - Jupiter * 0.621\n",
    "print(abs((round(Distancia_millas))))"
   ]
  }
 ],
 "metadata": {
  "interpreter": {
   "hash": "81ec8cff5213fffe3b2a5654ae184554c445bfa45ae7e843a1857068a52111e2"
  },
  "kernelspec": {
   "display_name": "Python 3.10.2 64-bit",
   "language": "python",
   "name": "python3"
  },
  "language_info": {
   "codemirror_mode": {
    "name": "ipython",
    "version": 3
   },
   "file_extension": ".py",
   "mimetype": "text/x-python",
   "name": "python",
   "nbconvert_exporter": "python",
   "pygments_lexer": "ipython3",
   "version": "3.10.2"
  },
  "orig_nbformat": 4
 },
 "nbformat": 4,
 "nbformat_minor": 2
}
