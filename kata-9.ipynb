{
 "cells": [
  {
   "cell_type": "markdown",
   "metadata": {},
   "source": [
    "# Kata Modulo 9"
   ]
  },
  {
   "cell_type": "code",
   "execution_count": 2,
   "metadata": {},
   "outputs": [],
   "source": [
    "def Informe_de_combustible(tanque_principal,tanque_secundario, tanque_reserva):\n",
    "    promedio_combustible = (tanque_principal +tanque_secundario +tanque_reserva) / 3\n",
    "    return f\"\"\" Informe de combustible:\n",
    "    Promedio comubustible :{promedio_combustible}%\n",
    "    Tanque Principal :{tanque_principal}%\n",
    "    Tanque Secundario :{tanque_secundario}%\n",
    "    Tanque de Reserva: {tanque_reserva}%\n",
    "    \"\"\""
   ]
  },
  {
   "cell_type": "code",
   "execution_count": 3,
   "metadata": {},
   "outputs": [
    {
     "name": "stdout",
     "output_type": "stream",
     "text": [
      " Informe de combustible:\n",
      "    Promedio comubustible :51.666666666666664%\n",
      "    Tanque Principal :60%\n",
      "    Tanque Secundario :45%\n",
      "    Tanque de Reserva: 50%\n",
      "    \n"
     ]
    }
   ],
   "source": [
    "print(Informe_de_combustible(60,45,50))"
   ]
  },
  {
   "cell_type": "code",
   "execution_count": 4,
   "metadata": {},
   "outputs": [
    {
     "data": {
      "text/plain": [
       "51.666666666666664"
      ]
     },
     "execution_count": 4,
     "metadata": {},
     "output_type": "execute_result"
    }
   ],
   "source": [
    "def promedio(values):\n",
    "    total = sum (values)\n",
    "    numeros= len(values)\n",
    "    return total/ numeros\n",
    "\n",
    "promedio([60,45,50])"
   ]
  },
  {
   "cell_type": "code",
   "execution_count": 6,
   "metadata": {},
   "outputs": [
    {
     "name": "stdout",
     "output_type": "stream",
     "text": [
      " Informe de combustible:\n",
      "    Promedio combustible 51.666666666666664%\n",
      "    Tanque Principal:60%\n",
      "    Tanque Secundario:45%\n",
      "    Tanque de Reserva:50%\n",
      "    \n"
     ]
    }
   ],
   "source": [
    "def Informe_de_combustible(tanque_principal, tanque_secundario, tanque_reserva):\n",
    "    return f\"\"\" Informe de combustible:\n",
    "    Promedio combustible {promedio([tanque_principal,tanque_secundario,tanque_reserva])}%\n",
    "    Tanque Principal:{tanque_principal}%\n",
    "    Tanque Secundario:{tanque_secundario}%\n",
    "    Tanque de Reserva:{tanque_reserva}%\n",
    "    \"\"\"\n",
    "\n",
    "print(Informe_de_combustible(60,45,50))"
   ]
  },
  {
   "cell_type": "code",
   "execution_count": 9,
   "metadata": {},
   "outputs": [
    {
     "name": "stdout",
     "output_type": "stream",
     "text": [
      "Informe de Mision:\n",
      "        Destino : Luna\n",
      "        Tiempo de Vuelo:50 min\n",
      "        Hora Prelanzamiento:15 min\n",
      "        Combustible Total:50000 gal\n",
      "        Tiempo total de viaje:65 min\n",
      "        \n",
      "        \n"
     ]
    }
   ],
   "source": [
    "def informe_de_Mision(Hora_prelazamiento,tiempo_de_vuelo, destino, Reserva_de_combustible,Gasto_de_combustible):\n",
    "    return f\"\"\"Informe de Mision:\n",
    "        Destino : {destino}\n",
    "        Tiempo de Vuelo:{tiempo_de_vuelo} min\n",
    "        Hora Prelanzamiento:{Hora_prelazamiento} min\n",
    "        Combustible Total:{Reserva_de_combustible - Gasto_de_combustible} gal\n",
    "        Tiempo total de viaje:{Hora_prelazamiento + tiempo_de_vuelo} min\n",
    "        \n",
    "        \"\"\"\n",
    "print (informe_de_Mision(15,50,\"Luna\",100000,50000))"
   ]
  },
  {
   "cell_type": "code",
   "execution_count": 15,
   "metadata": {},
   "outputs": [
    {
     "name": "stdout",
     "output_type": "stream",
     "text": [
      "\n",
      "    Mision a: Luna\n",
      "    Tiempo Total de Viaje:65 min\n",
      "    Resto de Combustible:100000 gal\n",
      "\n",
      "    \n"
     ]
    }
   ],
   "source": [
    "def informe_de_Mision(destino, *minutos,**reserva_combustible):\n",
    "    return f\"\"\"\n",
    "    Mision a: {destino}\n",
    "    Tiempo Total de Viaje:{sum(minutos)} min\n",
    "    Resto de Combustible:{sum(reserva_combustible.values())} gal\n",
    "\n",
    "    \"\"\"\n",
    "print(informe_de_Mision(\"Luna\",15,50,principal =50000, reserva= 50000))    \n"
   ]
  },
  {
   "cell_type": "code",
   "execution_count": 21,
   "metadata": {},
   "outputs": [
    {
     "name": "stdout",
     "output_type": "stream",
     "text": [
      "\n",
      "    Mision a: Luna\n",
      "    Tiempo Total de Viaje:90min\n",
      "    Resto de Combustible:100000 gal\n",
      "    principal tanque --> 50000 resto galones \n",
      "secundario tanque --> 50000 resto galones \n",
      "\n"
     ]
    }
   ],
   "source": [
    "def informe_de_Mision(destino,*minutos,**reserva_combustible):\n",
    "    reporte = f\"\"\"\n",
    "    Mision a: {destino}\n",
    "    Tiempo Total de Viaje:{sum(minutos)}min\n",
    "    Resto de Combustible:{sum(reserva_combustible.values())} gal\n",
    "    \"\"\"\n",
    "    for tanque, galones in reserva_combustible.items():\n",
    "        reporte += f\"{tanque} tanque --> {galones} resto galones \\n\"\n",
    "    return reporte\n",
    "print(informe_de_Mision(\"Luna\", 20,30,40, principal = 50000,secundario = 50000))"
   ]
  }
 ],
 "metadata": {
  "interpreter": {
   "hash": "81ec8cff5213fffe3b2a5654ae184554c445bfa45ae7e843a1857068a52111e2"
  },
  "kernelspec": {
   "display_name": "Python 3.10.2 64-bit",
   "language": "python",
   "name": "python3"
  },
  "language_info": {
   "codemirror_mode": {
    "name": "ipython",
    "version": 3
   },
   "file_extension": ".py",
   "mimetype": "text/x-python",
   "name": "python",
   "nbconvert_exporter": "python",
   "pygments_lexer": "ipython3",
   "version": "3.10.2"
  },
  "orig_nbformat": 4
 },
 "nbformat": 4,
 "nbformat_minor": 2
}
